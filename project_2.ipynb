{
 "cells": [
  {
   "cell_type": "code",
   "execution_count": 1,
   "metadata": {},
   "outputs": [],
   "source": [
    "#Libraries\n",
    "\n",
    "import pandas as pd\n",
    "pd.options.mode.chained_assignment = None\n",
    "import requests\n",
    "from bs4 import BeautifulSoup\n",
    "import seaborn as sns\n",
    "sns.set_palette(\"rocket\")\n",
    "import matplotlib.pyplot as plt\n",
    "import numpy as np"
   ]
  },
  {
   "cell_type": "code",
   "execution_count": 2,
   "metadata": {},
   "outputs": [
    {
     "data": {
      "text/html": [
       "<div>\n",
       "<style scoped>\n",
       "    .dataframe tbody tr th:only-of-type {\n",
       "        vertical-align: middle;\n",
       "    }\n",
       "\n",
       "    .dataframe tbody tr th {\n",
       "        vertical-align: top;\n",
       "    }\n",
       "\n",
       "    .dataframe thead th {\n",
       "        text-align: right;\n",
       "    }\n",
       "</style>\n",
       "<table border=\"1\" class=\"dataframe\">\n",
       "  <thead>\n",
       "    <tr style=\"text-align: right;\">\n",
       "      <th></th>\n",
       "      <th>FULL NAME</th>\n",
       "      <th>TEAM</th>\n",
       "      <th>POS</th>\n",
       "      <th>AGE</th>\n",
       "      <th>GP</th>\n",
       "      <th>MPG</th>\n",
       "      <th>MIN%Minutes PercentagePercentage of team minutes used by a player while he was on the floor</th>\n",
       "      <th>USG%Usage RateUsage rate, a.k.a., usage percentage is an estimate of the percentage of team plays used by a player while he was on the floor</th>\n",
       "      <th>TO%Turnover RateA metric that estimates the number of turnovers a player commits per 100 possessions</th>\n",
       "      <th>FTA</th>\n",
       "      <th>...</th>\n",
       "      <th>RPGReboundsRebounds per game.</th>\n",
       "      <th>TRB%Total Rebound PercentageTotal rebound percentage is estimated percentage of available rebounds grabbed by the player while the player is on the court.</th>\n",
       "      <th>APGAssistsAssists per game.</th>\n",
       "      <th>AST%Assist PercentageAssist percentage is an estimated percentage of teammate field goals a player assisted while the player is on the court</th>\n",
       "      <th>SPGStealsSteals per game.</th>\n",
       "      <th>BPGBlocksBlocks per game.</th>\n",
       "      <th>TOPGTurnoversTurnovers per game.</th>\n",
       "      <th>VIVersatility IndexVersatility index is a metric that measures a playerÕs ability to produce in points, assists, and rebounds. The average player will score around a five on the index, while top players score above 10</th>\n",
       "      <th>ORTGOffensive RatingIndividual offensive rating is the number of points produced by a player per 100 total individual possessions.</th>\n",
       "      <th>DRTGDefensive RatingIndividual defensive rating estimates how many points the player allowed per 100 possessions he individually faced while staying on the court.</th>\n",
       "    </tr>\n",
       "  </thead>\n",
       "  <tbody>\n",
       "    <tr>\n",
       "      <th>0</th>\n",
       "      <td>Precious Achiuwa</td>\n",
       "      <td>Tor</td>\n",
       "      <td>F</td>\n",
       "      <td>22,56</td>\n",
       "      <td>73</td>\n",
       "      <td>23,6</td>\n",
       "      <td>49,2</td>\n",
       "      <td>18,5</td>\n",
       "      <td>11,3</td>\n",
       "      <td>131</td>\n",
       "      <td>...</td>\n",
       "      <td>6,5</td>\n",
       "      <td>14,9</td>\n",
       "      <td>1,1</td>\n",
       "      <td>6,9</td>\n",
       "      <td>0,51</td>\n",
       "      <td>0,56</td>\n",
       "      <td>1,15</td>\n",
       "      <td>6,8</td>\n",
       "      <td>105,4</td>\n",
       "      <td>104</td>\n",
       "    </tr>\n",
       "    <tr>\n",
       "      <th>1</th>\n",
       "      <td>Steven Adams</td>\n",
       "      <td>Mem</td>\n",
       "      <td>C</td>\n",
       "      <td>28,73</td>\n",
       "      <td>76</td>\n",
       "      <td>26,3</td>\n",
       "      <td>54,8</td>\n",
       "      <td>12</td>\n",
       "      <td>19,6</td>\n",
       "      <td>199</td>\n",
       "      <td>...</td>\n",
       "      <td>10</td>\n",
       "      <td>19,9</td>\n",
       "      <td>3,4</td>\n",
       "      <td>16,1</td>\n",
       "      <td>0,87</td>\n",
       "      <td>0,79</td>\n",
       "      <td>1,51</td>\n",
       "      <td>9,4</td>\n",
       "      <td>124,7</td>\n",
       "      <td>103,9</td>\n",
       "    </tr>\n",
       "    <tr>\n",
       "      <th>2</th>\n",
       "      <td>Bam Adebayo</td>\n",
       "      <td>Mia</td>\n",
       "      <td>C-F</td>\n",
       "      <td>24,73</td>\n",
       "      <td>56</td>\n",
       "      <td>32,6</td>\n",
       "      <td>67,9</td>\n",
       "      <td>25</td>\n",
       "      <td>14,4</td>\n",
       "      <td>340</td>\n",
       "      <td>...</td>\n",
       "      <td>10,1</td>\n",
       "      <td>17,5</td>\n",
       "      <td>3,4</td>\n",
       "      <td>17,5</td>\n",
       "      <td>1,43</td>\n",
       "      <td>0,79</td>\n",
       "      <td>2,64</td>\n",
       "      <td>10,7</td>\n",
       "      <td>117,2</td>\n",
       "      <td>98,2</td>\n",
       "    </tr>\n",
       "    <tr>\n",
       "      <th>3</th>\n",
       "      <td>Santi Aldama</td>\n",
       "      <td>Mem</td>\n",
       "      <td>F-C</td>\n",
       "      <td>21,25</td>\n",
       "      <td>32</td>\n",
       "      <td>11,2</td>\n",
       "      <td>23,4</td>\n",
       "      <td>18,5</td>\n",
       "      <td>9,9</td>\n",
       "      <td>32</td>\n",
       "      <td>...</td>\n",
       "      <td>2,7</td>\n",
       "      <td>12,6</td>\n",
       "      <td>0,7</td>\n",
       "      <td>7,7</td>\n",
       "      <td>0,19</td>\n",
       "      <td>0,31</td>\n",
       "      <td>0,5</td>\n",
       "      <td>7,1</td>\n",
       "      <td>101,1</td>\n",
       "      <td>103,9</td>\n",
       "    </tr>\n",
       "    <tr>\n",
       "      <th>4</th>\n",
       "      <td>LaMarcus Aldridge</td>\n",
       "      <td>Bro</td>\n",
       "      <td>C-F</td>\n",
       "      <td>36,73</td>\n",
       "      <td>47</td>\n",
       "      <td>22,3</td>\n",
       "      <td>46,5</td>\n",
       "      <td>22,4</td>\n",
       "      <td>8</td>\n",
       "      <td>102</td>\n",
       "      <td>...</td>\n",
       "      <td>5,5</td>\n",
       "      <td>13,4</td>\n",
       "      <td>0,9</td>\n",
       "      <td>6,3</td>\n",
       "      <td>0,3</td>\n",
       "      <td>1</td>\n",
       "      <td>0,94</td>\n",
       "      <td>7,2</td>\n",
       "      <td>119,6</td>\n",
       "      <td>108,8</td>\n",
       "    </tr>\n",
       "    <tr>\n",
       "      <th>...</th>\n",
       "      <td>...</td>\n",
       "      <td>...</td>\n",
       "      <td>...</td>\n",
       "      <td>...</td>\n",
       "      <td>...</td>\n",
       "      <td>...</td>\n",
       "      <td>...</td>\n",
       "      <td>...</td>\n",
       "      <td>...</td>\n",
       "      <td>...</td>\n",
       "      <td>...</td>\n",
       "      <td>...</td>\n",
       "      <td>...</td>\n",
       "      <td>...</td>\n",
       "      <td>...</td>\n",
       "      <td>...</td>\n",
       "      <td>...</td>\n",
       "      <td>...</td>\n",
       "      <td>...</td>\n",
       "      <td>...</td>\n",
       "      <td>...</td>\n",
       "    </tr>\n",
       "    <tr>\n",
       "      <th>711</th>\n",
       "      <td>Thaddeus Young</td>\n",
       "      <td>Tor</td>\n",
       "      <td>F</td>\n",
       "      <td>33,8</td>\n",
       "      <td>26</td>\n",
       "      <td>18,3</td>\n",
       "      <td>38,1</td>\n",
       "      <td>16</td>\n",
       "      <td>12,4</td>\n",
       "      <td>27</td>\n",
       "      <td>...</td>\n",
       "      <td>4,4</td>\n",
       "      <td>13</td>\n",
       "      <td>1,7</td>\n",
       "      <td>13,6</td>\n",
       "      <td>1,19</td>\n",
       "      <td>0,42</td>\n",
       "      <td>0,85</td>\n",
       "      <td>7,9</td>\n",
       "      <td>112,8</td>\n",
       "      <td>102</td>\n",
       "    </tr>\n",
       "    <tr>\n",
       "      <th>712</th>\n",
       "      <td>Trae Young</td>\n",
       "      <td>Atl</td>\n",
       "      <td>G</td>\n",
       "      <td>23,56</td>\n",
       "      <td>76</td>\n",
       "      <td>34,9</td>\n",
       "      <td>72,7</td>\n",
       "      <td>34,4</td>\n",
       "      <td>14,5</td>\n",
       "      <td>553</td>\n",
       "      <td>...</td>\n",
       "      <td>3,7</td>\n",
       "      <td>5,9</td>\n",
       "      <td>9,7</td>\n",
       "      <td>46,8</td>\n",
       "      <td>0,96</td>\n",
       "      <td>0,09</td>\n",
       "      <td>3,99</td>\n",
       "      <td>11,5</td>\n",
       "      <td>119,5</td>\n",
       "      <td>114,3</td>\n",
       "    </tr>\n",
       "    <tr>\n",
       "      <th>713</th>\n",
       "      <td>Omer Yurtseven</td>\n",
       "      <td>Mia</td>\n",
       "      <td>C</td>\n",
       "      <td>23,81</td>\n",
       "      <td>56</td>\n",
       "      <td>12,6</td>\n",
       "      <td>26,3</td>\n",
       "      <td>19,8</td>\n",
       "      <td>13</td>\n",
       "      <td>61</td>\n",
       "      <td>...</td>\n",
       "      <td>5,3</td>\n",
       "      <td>23,6</td>\n",
       "      <td>0,9</td>\n",
       "      <td>11</td>\n",
       "      <td>0,3</td>\n",
       "      <td>0,36</td>\n",
       "      <td>0,73</td>\n",
       "      <td>9,3</td>\n",
       "      <td>113,3</td>\n",
       "      <td>94,7</td>\n",
       "    </tr>\n",
       "    <tr>\n",
       "      <th>714</th>\n",
       "      <td>Cody Zeller</td>\n",
       "      <td>Por</td>\n",
       "      <td>F-C</td>\n",
       "      <td>29,51</td>\n",
       "      <td>27</td>\n",
       "      <td>13,1</td>\n",
       "      <td>27,4</td>\n",
       "      <td>16</td>\n",
       "      <td>14,6</td>\n",
       "      <td>49</td>\n",
       "      <td>...</td>\n",
       "      <td>4,6</td>\n",
       "      <td>19,3</td>\n",
       "      <td>0,8</td>\n",
       "      <td>9,4</td>\n",
       "      <td>0,3</td>\n",
       "      <td>0,22</td>\n",
       "      <td>0,7</td>\n",
       "      <td>8,2</td>\n",
       "      <td>128,3</td>\n",
       "      <td>101,8</td>\n",
       "    </tr>\n",
       "    <tr>\n",
       "      <th>715</th>\n",
       "      <td>Ivica Zubac</td>\n",
       "      <td>Lac</td>\n",
       "      <td>C</td>\n",
       "      <td>25,07</td>\n",
       "      <td>76</td>\n",
       "      <td>24,4</td>\n",
       "      <td>50,8</td>\n",
       "      <td>16,8</td>\n",
       "      <td>16</td>\n",
       "      <td>227</td>\n",
       "      <td>...</td>\n",
       "      <td>8,5</td>\n",
       "      <td>18,2</td>\n",
       "      <td>1,6</td>\n",
       "      <td>9,8</td>\n",
       "      <td>0,47</td>\n",
       "      <td>1,01</td>\n",
       "      <td>1,49</td>\n",
       "      <td>8,5</td>\n",
       "      <td>127,6</td>\n",
       "      <td>99,6</td>\n",
       "    </tr>\n",
       "  </tbody>\n",
       "</table>\n",
       "<p>716 rows × 28 columns</p>\n",
       "</div>"
      ],
      "text/plain": [
       "             FULL NAME TEAM  POS    AGE  GP   MPG  \\\n",
       "0     Precious Achiuwa  Tor    F  22,56  73  23,6   \n",
       "1         Steven Adams  Mem    C  28,73  76  26,3   \n",
       "2          Bam Adebayo  Mia  C-F  24,73  56  32,6   \n",
       "3         Santi Aldama  Mem  F-C  21,25  32  11,2   \n",
       "4    LaMarcus Aldridge  Bro  C-F  36,73  47  22,3   \n",
       "..                 ...  ...  ...    ...  ..   ...   \n",
       "711     Thaddeus Young  Tor    F   33,8  26  18,3   \n",
       "712         Trae Young  Atl    G  23,56  76  34,9   \n",
       "713     Omer Yurtseven  Mia    C  23,81  56  12,6   \n",
       "714        Cody Zeller  Por  F-C  29,51  27  13,1   \n",
       "715        Ivica Zubac  Lac    C  25,07  76  24,4   \n",
       "\n",
       "    MIN%Minutes PercentagePercentage of team minutes used by a player while he was on the floor  \\\n",
       "0                                                 49,2                                            \n",
       "1                                                 54,8                                            \n",
       "2                                                 67,9                                            \n",
       "3                                                 23,4                                            \n",
       "4                                                 46,5                                            \n",
       "..                                                 ...                                            \n",
       "711                                               38,1                                            \n",
       "712                                               72,7                                            \n",
       "713                                               26,3                                            \n",
       "714                                               27,4                                            \n",
       "715                                               50,8                                            \n",
       "\n",
       "    USG%Usage RateUsage rate, a.k.a., usage percentage is an estimate of the percentage of team plays used by a player while he was on the floor  \\\n",
       "0                                                 18,5                                                                                             \n",
       "1                                                   12                                                                                             \n",
       "2                                                   25                                                                                             \n",
       "3                                                 18,5                                                                                             \n",
       "4                                                 22,4                                                                                             \n",
       "..                                                 ...                                                                                             \n",
       "711                                                 16                                                                                             \n",
       "712                                               34,4                                                                                             \n",
       "713                                               19,8                                                                                             \n",
       "714                                                 16                                                                                             \n",
       "715                                               16,8                                                                                             \n",
       "\n",
       "    TO%Turnover RateA metric that estimates the number of turnovers a player commits per 100 possessions  \\\n",
       "0                                                 11,3                                                     \n",
       "1                                                 19,6                                                     \n",
       "2                                                 14,4                                                     \n",
       "3                                                  9,9                                                     \n",
       "4                                                    8                                                     \n",
       "..                                                 ...                                                     \n",
       "711                                               12,4                                                     \n",
       "712                                               14,5                                                     \n",
       "713                                                 13                                                     \n",
       "714                                               14,6                                                     \n",
       "715                                                 16                                                     \n",
       "\n",
       "     FTA  ... RPGReboundsRebounds per game.  \\\n",
       "0    131  ...                           6,5   \n",
       "1    199  ...                            10   \n",
       "2    340  ...                          10,1   \n",
       "3     32  ...                           2,7   \n",
       "4    102  ...                           5,5   \n",
       "..   ...  ...                           ...   \n",
       "711   27  ...                           4,4   \n",
       "712  553  ...                           3,7   \n",
       "713   61  ...                           5,3   \n",
       "714   49  ...                           4,6   \n",
       "715  227  ...                           8,5   \n",
       "\n",
       "     TRB%Total Rebound PercentageTotal rebound percentage is estimated percentage of available rebounds grabbed by the player while the player is on the court.  \\\n",
       "0                                                 14,9                                                                                                            \n",
       "1                                                 19,9                                                                                                            \n",
       "2                                                 17,5                                                                                                            \n",
       "3                                                 12,6                                                                                                            \n",
       "4                                                 13,4                                                                                                            \n",
       "..                                                 ...                                                                                                            \n",
       "711                                                 13                                                                                                            \n",
       "712                                                5,9                                                                                                            \n",
       "713                                               23,6                                                                                                            \n",
       "714                                               19,3                                                                                                            \n",
       "715                                               18,2                                                                                                            \n",
       "\n",
       "    APGAssistsAssists per game.  \\\n",
       "0                           1,1   \n",
       "1                           3,4   \n",
       "2                           3,4   \n",
       "3                           0,7   \n",
       "4                           0,9   \n",
       "..                          ...   \n",
       "711                         1,7   \n",
       "712                         9,7   \n",
       "713                         0,9   \n",
       "714                         0,8   \n",
       "715                         1,6   \n",
       "\n",
       "     AST%Assist PercentageAssist percentage is an estimated percentage of teammate field goals a player assisted while the player is on the court  \\\n",
       "0                                                  6,9                                                                                              \n",
       "1                                                 16,1                                                                                              \n",
       "2                                                 17,5                                                                                              \n",
       "3                                                  7,7                                                                                              \n",
       "4                                                  6,3                                                                                              \n",
       "..                                                 ...                                                                                              \n",
       "711                                               13,6                                                                                              \n",
       "712                                               46,8                                                                                              \n",
       "713                                                 11                                                                                              \n",
       "714                                                9,4                                                                                              \n",
       "715                                                9,8                                                                                              \n",
       "\n",
       "    SPGStealsSteals per game. BPGBlocksBlocks per game.  \\\n",
       "0                        0,51                      0,56   \n",
       "1                        0,87                      0,79   \n",
       "2                        1,43                      0,79   \n",
       "3                        0,19                      0,31   \n",
       "4                         0,3                         1   \n",
       "..                        ...                       ...   \n",
       "711                      1,19                      0,42   \n",
       "712                      0,96                      0,09   \n",
       "713                       0,3                      0,36   \n",
       "714                       0,3                      0,22   \n",
       "715                      0,47                      1,01   \n",
       "\n",
       "    TOPGTurnoversTurnovers per game.  \\\n",
       "0                               1,15   \n",
       "1                               1,51   \n",
       "2                               2,64   \n",
       "3                                0,5   \n",
       "4                               0,94   \n",
       "..                               ...   \n",
       "711                             0,85   \n",
       "712                             3,99   \n",
       "713                             0,73   \n",
       "714                              0,7   \n",
       "715                             1,49   \n",
       "\n",
       "    VIVersatility IndexVersatility index is a metric that measures a playerÕs ability to produce in points, assists, and rebounds. The average player will score around a five on the index, while top players score above 10  \\\n",
       "0                                                  6,8                                                                                                                                                                          \n",
       "1                                                  9,4                                                                                                                                                                          \n",
       "2                                                 10,7                                                                                                                                                                          \n",
       "3                                                  7,1                                                                                                                                                                          \n",
       "4                                                  7,2                                                                                                                                                                          \n",
       "..                                                 ...                                                                                                                                                                          \n",
       "711                                                7,9                                                                                                                                                                          \n",
       "712                                               11,5                                                                                                                                                                          \n",
       "713                                                9,3                                                                                                                                                                          \n",
       "714                                                8,2                                                                                                                                                                          \n",
       "715                                                8,5                                                                                                                                                                          \n",
       "\n",
       "    ORTGOffensive RatingIndividual offensive rating is the number of points produced by a player per 100 total individual possessions.  \\\n",
       "0                                                105,4                                                                                   \n",
       "1                                                124,7                                                                                   \n",
       "2                                                117,2                                                                                   \n",
       "3                                                101,1                                                                                   \n",
       "4                                                119,6                                                                                   \n",
       "..                                                 ...                                                                                   \n",
       "711                                              112,8                                                                                   \n",
       "712                                              119,5                                                                                   \n",
       "713                                              113,3                                                                                   \n",
       "714                                              128,3                                                                                   \n",
       "715                                              127,6                                                                                   \n",
       "\n",
       "    DRTGDefensive RatingIndividual defensive rating estimates how many points the player allowed per 100 possessions he individually faced while staying on the court.  \n",
       "0                                                  104                                                                                                                  \n",
       "1                                                103,9                                                                                                                  \n",
       "2                                                 98,2                                                                                                                  \n",
       "3                                                103,9                                                                                                                  \n",
       "4                                                108,8                                                                                                                  \n",
       "..                                                 ...                                                                                                                  \n",
       "711                                                102                                                                                                                  \n",
       "712                                              114,3                                                                                                                  \n",
       "713                                               94,7                                                                                                                  \n",
       "714                                              101,8                                                                                                                  \n",
       "715                                               99,6                                                                                                                  \n",
       "\n",
       "[716 rows x 28 columns]"
      ]
     },
     "execution_count": 2,
     "metadata": {},
     "output_type": "execute_result"
    }
   ],
   "source": [
    "# Importing NBA Stats 2021/2022 CSV\n",
    "\n",
    "df = pd.read_csv('data/NBA_Stats_202122.csv', sep=';', encoding='unicode_escape')\n",
    "df"
   ]
  },
  {
   "cell_type": "code",
   "execution_count": 3,
   "metadata": {},
   "outputs": [
    {
     "data": {
      "text/plain": [
       "Index(['FULL NAME', 'TEAM', 'POS', 'AGE', 'TS%', 'PPG', 'RPG', 'APG', 'SPG',\n",
       "       'BPG', 'TOPG'],\n",
       "      dtype='object')"
      ]
     },
     "execution_count": 3,
     "metadata": {},
     "output_type": "execute_result"
    }
   ],
   "source": [
    "# Creating a new subset and renaming columns\n",
    "\n",
    "df_2 = df[['FULL NAME','TEAM','POS','AGE','TS%True Shooting PercentageTrue shooting percentage is a measure of shooting efficiency that takes into account field goals, 3-point field goals, and free throws.',\n",
    "       'PPGPointsPoints per game.', 'RPGReboundsRebounds per game.','APGAssistsAssists per game.','SPGStealsSteals per game.', 'BPGBlocksBlocks per game.',\n",
    "       'TOPGTurnoversTurnovers per game.']]\n",
    "df_2.rename(columns={'TS%True Shooting PercentageTrue shooting percentage is a measure of shooting efficiency that takes into account field goals, 3-point field goals, and free throws.': 'TS%',\n",
    "                        'PPGPointsPoints per game.': 'PPG',\n",
    "                        'RPGReboundsRebounds per game.': 'RPG',\n",
    "                        'APGAssistsAssists per game.': 'APG',\n",
    "                        'SPGStealsSteals per game.': 'SPG',\n",
    "                        'BPGBlocksBlocks per game.': 'BPG',\n",
    "                        'TOPGTurnoversTurnovers per game.': 'TOPG'},\n",
    "          inplace=True)\n",
    "df_2.columns"
   ]
  },
  {
   "cell_type": "code",
   "execution_count": 4,
   "metadata": {},
   "outputs": [],
   "source": [
    "#Converting numeric columns to floats\n",
    "\n",
    "list_columns = ['AGE', 'TS%', 'PPG', 'RPG', 'APG', 'SPG', 'BPG', 'TOPG']\n",
    "for i in list_columns:\n",
    "    df_2[i] = df_2[i].str.replace(',','.').astype(float)"
   ]
  },
  {
   "cell_type": "code",
   "execution_count": 5,
   "metadata": {},
   "outputs": [
    {
     "data": {
      "text/plain": [
       "FULL NAME     object\n",
       "TEAM          object\n",
       "POS           object\n",
       "AGE          float64\n",
       "TS%          float64\n",
       "PPG          float64\n",
       "RPG          float64\n",
       "APG          float64\n",
       "SPG          float64\n",
       "BPG          float64\n",
       "TOPG         float64\n",
       "dtype: object"
      ]
     },
     "execution_count": 5,
     "metadata": {},
     "output_type": "execute_result"
    }
   ],
   "source": [
    "df_2.dtypes"
   ]
  },
  {
   "cell_type": "code",
   "execution_count": 6,
   "metadata": {},
   "outputs": [],
   "source": [
    "# Calculating player efficiency with the formula created by Kansas City sports reporter and statistician Martin Manley\n",
    "\n",
    "df_2['MPPG'] = (df_2['PPG'] * (1- df_2['TS%']))\n",
    "df_2['EFF'] = df_2['PPG'] + df_2['RPG'] + df_2['APG'] + df_2['SPG'] + df_2['BPG'] - df_2['TOPG'] - df_2['MPPG']"
   ]
  },
  {
   "cell_type": "code",
   "execution_count": 7,
   "metadata": {},
   "outputs": [],
   "source": [
    "# Dropping unnecessary columns for analysis\n",
    "\n",
    "df_2.drop(columns=['TS%','PPG','RPG','APG','SPG','BPG','TOPG','MPPG'], inplace=True)"
   ]
  },
  {
   "cell_type": "code",
   "execution_count": 8,
   "metadata": {},
   "outputs": [
    {
     "data": {
      "text/html": [
       "<div>\n",
       "<style scoped>\n",
       "    .dataframe tbody tr th:only-of-type {\n",
       "        vertical-align: middle;\n",
       "    }\n",
       "\n",
       "    .dataframe tbody tr th {\n",
       "        vertical-align: top;\n",
       "    }\n",
       "\n",
       "    .dataframe thead th {\n",
       "        text-align: right;\n",
       "    }\n",
       "</style>\n",
       "<table border=\"1\" class=\"dataframe\">\n",
       "  <thead>\n",
       "    <tr style=\"text-align: right;\">\n",
       "      <th></th>\n",
       "      <th>FULL NAME</th>\n",
       "      <th>TEAM</th>\n",
       "      <th>POSITION</th>\n",
       "      <th>AGE</th>\n",
       "      <th>EFFICIENCY</th>\n",
       "    </tr>\n",
       "  </thead>\n",
       "  <tbody>\n",
       "    <tr>\n",
       "      <th>0</th>\n",
       "      <td>Precious Achiuwa</td>\n",
       "      <td>Toronto Raptors</td>\n",
       "      <td>Small Forward (3)</td>\n",
       "      <td>22</td>\n",
       "      <td>12.0973</td>\n",
       "    </tr>\n",
       "    <tr>\n",
       "      <th>1</th>\n",
       "      <td>Steven Adams</td>\n",
       "      <td>Memphis Grizzlies</td>\n",
       "      <td>Center (5)</td>\n",
       "      <td>28</td>\n",
       "      <td>17.4140</td>\n",
       "    </tr>\n",
       "    <tr>\n",
       "      <th>2</th>\n",
       "      <td>Bam Adebayo</td>\n",
       "      <td>Miami Heat</td>\n",
       "      <td>Power Forward (4)</td>\n",
       "      <td>24</td>\n",
       "      <td>24.6928</td>\n",
       "    </tr>\n",
       "    <tr>\n",
       "      <th>3</th>\n",
       "      <td>Santi Aldama</td>\n",
       "      <td>Memphis Grizzlies</td>\n",
       "      <td>Power Forward (4)</td>\n",
       "      <td>21</td>\n",
       "      <td>5.2532</td>\n",
       "    </tr>\n",
       "    <tr>\n",
       "      <th>4</th>\n",
       "      <td>LaMarcus Aldridge</td>\n",
       "      <td>Brooklyn Nets</td>\n",
       "      <td>Power Forward (4)</td>\n",
       "      <td>36</td>\n",
       "      <td>14.5516</td>\n",
       "    </tr>\n",
       "    <tr>\n",
       "      <th>...</th>\n",
       "      <td>...</td>\n",
       "      <td>...</td>\n",
       "      <td>...</td>\n",
       "      <td>...</td>\n",
       "      <td>...</td>\n",
       "    </tr>\n",
       "    <tr>\n",
       "      <th>711</th>\n",
       "      <td>Thaddeus Young</td>\n",
       "      <td>Toronto Raptors</td>\n",
       "      <td>Small Forward (3)</td>\n",
       "      <td>33</td>\n",
       "      <td>10.1738</td>\n",
       "    </tr>\n",
       "    <tr>\n",
       "      <th>712</th>\n",
       "      <td>Trae Young</td>\n",
       "      <td>Atlanta Hawks</td>\n",
       "      <td>Point Guard (1)</td>\n",
       "      <td>23</td>\n",
       "      <td>27.5852</td>\n",
       "    </tr>\n",
       "    <tr>\n",
       "      <th>713</th>\n",
       "      <td>Omer Yurtseven</td>\n",
       "      <td>Miami Heat</td>\n",
       "      <td>Center (5)</td>\n",
       "      <td>23</td>\n",
       "      <td>9.0238</td>\n",
       "    </tr>\n",
       "    <tr>\n",
       "      <th>714</th>\n",
       "      <td>Cody Zeller</td>\n",
       "      <td>Portland Trail Blazers</td>\n",
       "      <td>Power Forward (4)</td>\n",
       "      <td>29</td>\n",
       "      <td>8.4804</td>\n",
       "    </tr>\n",
       "    <tr>\n",
       "      <th>715</th>\n",
       "      <td>Ivica Zubac</td>\n",
       "      <td>Los Angeles Clippers</td>\n",
       "      <td>Center (5)</td>\n",
       "      <td>25</td>\n",
       "      <td>16.8880</td>\n",
       "    </tr>\n",
       "  </tbody>\n",
       "</table>\n",
       "<p>716 rows × 5 columns</p>\n",
       "</div>"
      ],
      "text/plain": [
       "             FULL NAME                    TEAM           POSITION  AGE  \\\n",
       "0     Precious Achiuwa         Toronto Raptors  Small Forward (3)   22   \n",
       "1         Steven Adams       Memphis Grizzlies         Center (5)   28   \n",
       "2          Bam Adebayo              Miami Heat  Power Forward (4)   24   \n",
       "3         Santi Aldama       Memphis Grizzlies  Power Forward (4)   21   \n",
       "4    LaMarcus Aldridge           Brooklyn Nets  Power Forward (4)   36   \n",
       "..                 ...                     ...                ...  ...   \n",
       "711     Thaddeus Young         Toronto Raptors  Small Forward (3)   33   \n",
       "712         Trae Young           Atlanta Hawks    Point Guard (1)   23   \n",
       "713     Omer Yurtseven              Miami Heat         Center (5)   23   \n",
       "714        Cody Zeller  Portland Trail Blazers  Power Forward (4)   29   \n",
       "715        Ivica Zubac    Los Angeles Clippers         Center (5)   25   \n",
       "\n",
       "     EFFICIENCY  \n",
       "0       12.0973  \n",
       "1       17.4140  \n",
       "2       24.6928  \n",
       "3        5.2532  \n",
       "4       14.5516  \n",
       "..          ...  \n",
       "711     10.1738  \n",
       "712     27.5852  \n",
       "713      9.0238  \n",
       "714      8.4804  \n",
       "715     16.8880  \n",
       "\n",
       "[716 rows x 5 columns]"
      ]
     },
     "execution_count": 8,
     "metadata": {},
     "output_type": "execute_result"
    }
   ],
   "source": [
    "# Cleaning the remaining columns\n",
    "\n",
    "df_2['TEAM'] = df_2['TEAM'].replace('Tor','Toronto Raptors').replace('Mem','Memphis Grizzlies').replace('Mia','Miami Heat').replace('Bro','Brooklyn Nets').replace('Nor','New Orleans Pelicans').replace('Uta','Utah Jazz').replace('Mil','Milwaukee Bucks').replace('Cle','Cleveland Cavaliers').replace('Ind','Indiana Pacers').replace('Lal','Los Angeles Lakers').replace('Orl','Orlando Magic').replace('Nyk','New York Knicks').replace('Nor','New Orleans Pelicans').replace('Hou','Houston Rockets').replace('Was','Washington Wizards').replace('Pho','Phoenix Suns').replace('Sac','Sacramento Kings').replace('Det','Detroit Pistons').replace('Cha','Charlotte Hornets').replace('Chi','Chicago Bulls').replace('Atl','Atlanta Hawks').replace('Den','Denver Nuggets').replace('Phi','Philadelphia 76ers').replace('San','San Antonio Spurs').replace('Lac','Los Angeles Clippers').replace('Okc','Oklahoma City Thunder').replace('Min','Minnesota Timberwolves').replace('Dal','Dallas Mavericks').replace('Gol','Golden State Warriors').replace('Por','Portland Trail Blazers').replace('Bos','Boston Celtics')\n",
    "df_2['POS'] = df_2['POS'].replace('G','Point Guard (1)').replace('F','Small Forward (3)').replace('C','Center (5)').replace('C-F','Power Forward (4)').replace('F-C','Power Forward (4)').replace('F-G','Shooting Guard (2)').replace('G-F','Shooting Guard (2)')\n",
    "df_2['AGE'] = df_2['AGE'].astype(int)\n",
    "df_2.rename(columns={'POS': 'POSITION', 'EFF': 'EFFICIENCY'}, inplace=True)\n",
    "df_2"
   ]
  },
  {
   "cell_type": "markdown",
   "metadata": {},
   "source": [
    "## SALARIES"
   ]
  },
  {
   "cell_type": "code",
   "execution_count": 9,
   "metadata": {},
   "outputs": [],
   "source": [
    "res = requests.get('https://hoopshype.com/salaries/players/2021-2022/')\n",
    "html = res.content\n",
    "soup = BeautifulSoup(html, \"html.parser\")"
   ]
  },
  {
   "cell_type": "code",
   "execution_count": 10,
   "metadata": {},
   "outputs": [
    {
     "data": {
      "text/plain": [
       "<td class=\"name\">\n",
       "<a href=\"https://hoopshype.com/player/stephen-curry/salary/\">\n",
       "\t\t\t\t\t\t\t\tStephen Curry\t\t\t\t\t\t\t</a>\n",
       "</td>"
      ]
     },
     "execution_count": 10,
     "metadata": {},
     "output_type": "execute_result"
    }
   ],
   "source": [
    "players = soup.find_all(\"td\", attrs={\"class\": \"name\"})\n",
    "players[1]"
   ]
  },
  {
   "cell_type": "code",
   "execution_count": 11,
   "metadata": {},
   "outputs": [
    {
     "data": {
      "text/plain": [
       "'Stephen Curry'"
      ]
     },
     "execution_count": 11,
     "metadata": {},
     "output_type": "execute_result"
    }
   ],
   "source": [
    "names = players[1].getText().strip()\n",
    "names"
   ]
  },
  {
   "cell_type": "code",
   "execution_count": 12,
   "metadata": {},
   "outputs": [
    {
     "data": {
      "text/plain": [
       "653"
      ]
     },
     "execution_count": 12,
     "metadata": {},
     "output_type": "execute_result"
    }
   ],
   "source": [
    "names_list = [i.getText().strip() for i in players]\n",
    "names_list.pop(0) #Deleting the first item of the list ('Player')\n",
    "len(names_list)"
   ]
  },
  {
   "cell_type": "code",
   "execution_count": 13,
   "metadata": {},
   "outputs": [
    {
     "data": {
      "text/plain": [
       "<td class=\"\" data-value=\"45780966\" style=\"color:black\">\n",
       "\t\t\t\t\t\t\t$45,780,966\t\t\t\t\t\t</td>"
      ]
     },
     "execution_count": 13,
     "metadata": {},
     "output_type": "execute_result"
    }
   ],
   "source": [
    "salary = soup.find_all(\"td\", attrs={\"style\": \"color:black\"})\n",
    "salary[0]"
   ]
  },
  {
   "cell_type": "code",
   "execution_count": 14,
   "metadata": {},
   "outputs": [
    {
     "data": {
      "text/plain": [
       "'45780966'"
      ]
     },
     "execution_count": 14,
     "metadata": {},
     "output_type": "execute_result"
    }
   ],
   "source": [
    "total = salary[0].getText().strip().replace('$','').replace(',','')\n",
    "total"
   ]
  },
  {
   "cell_type": "code",
   "execution_count": 15,
   "metadata": {},
   "outputs": [
    {
     "data": {
      "text/plain": [
       "1306"
      ]
     },
     "execution_count": 15,
     "metadata": {},
     "output_type": "execute_result"
    }
   ],
   "source": [
    "salaries = [i.getText().strip().replace('$','').replace(',','') for i in salary]\n",
    "len(salaries)"
   ]
  },
  {
   "cell_type": "code",
   "execution_count": 16,
   "metadata": {},
   "outputs": [],
   "source": [
    "salaries_list = []\n",
    "count = 0\n",
    "for i in salaries:\n",
    "    count += 1 \n",
    "    if count % 2 == 0:\n",
    "        salaries_list.append(int(i))"
   ]
  },
  {
   "cell_type": "code",
   "execution_count": 17,
   "metadata": {},
   "outputs": [],
   "source": [
    "all_together = {\n",
    "    \"full_name_1\" : names_list,\n",
    "    \"SALARY\" : salaries_list\n",
    "}"
   ]
  },
  {
   "cell_type": "code",
   "execution_count": 18,
   "metadata": {},
   "outputs": [
    {
     "data": {
      "text/html": [
       "<div>\n",
       "<style scoped>\n",
       "    .dataframe tbody tr th:only-of-type {\n",
       "        vertical-align: middle;\n",
       "    }\n",
       "\n",
       "    .dataframe tbody tr th {\n",
       "        vertical-align: top;\n",
       "    }\n",
       "\n",
       "    .dataframe thead th {\n",
       "        text-align: right;\n",
       "    }\n",
       "</style>\n",
       "<table border=\"1\" class=\"dataframe\">\n",
       "  <thead>\n",
       "    <tr style=\"text-align: right;\">\n",
       "      <th></th>\n",
       "      <th>full_name_1</th>\n",
       "      <th>SALARY</th>\n",
       "    </tr>\n",
       "  </thead>\n",
       "  <tbody>\n",
       "    <tr>\n",
       "      <th>0</th>\n",
       "      <td>Stephen Curry</td>\n",
       "      <td>49928610</td>\n",
       "    </tr>\n",
       "    <tr>\n",
       "      <th>1</th>\n",
       "      <td>John Wall</td>\n",
       "      <td>48325294</td>\n",
       "    </tr>\n",
       "    <tr>\n",
       "      <th>2</th>\n",
       "      <td>James Harden</td>\n",
       "      <td>48325294</td>\n",
       "    </tr>\n",
       "    <tr>\n",
       "      <th>3</th>\n",
       "      <td>Russell Westbrook</td>\n",
       "      <td>48216568</td>\n",
       "    </tr>\n",
       "    <tr>\n",
       "      <th>4</th>\n",
       "      <td>Kevin Durant</td>\n",
       "      <td>45825710</td>\n",
       "    </tr>\n",
       "    <tr>\n",
       "      <th>...</th>\n",
       "      <td>...</td>\n",
       "      <td>...</td>\n",
       "    </tr>\n",
       "    <tr>\n",
       "      <th>648</th>\n",
       "      <td>Jaime Echenique</td>\n",
       "      <td>57993</td>\n",
       "    </tr>\n",
       "    <tr>\n",
       "      <th>649</th>\n",
       "      <td>Luca Vildoza</td>\n",
       "      <td>46665</td>\n",
       "    </tr>\n",
       "    <tr>\n",
       "      <th>650</th>\n",
       "      <td>Zavier Simpson</td>\n",
       "      <td>40595</td>\n",
       "    </tr>\n",
       "    <tr>\n",
       "      <th>651</th>\n",
       "      <td>Mfiondu Kabengele</td>\n",
       "      <td>20924</td>\n",
       "    </tr>\n",
       "    <tr>\n",
       "      <th>652</th>\n",
       "      <td>Melvin Frazier</td>\n",
       "      <td>14498</td>\n",
       "    </tr>\n",
       "  </tbody>\n",
       "</table>\n",
       "<p>653 rows × 2 columns</p>\n",
       "</div>"
      ],
      "text/plain": [
       "           full_name_1    SALARY\n",
       "0        Stephen Curry  49928610\n",
       "1            John Wall  48325294\n",
       "2         James Harden  48325294\n",
       "3    Russell Westbrook  48216568\n",
       "4         Kevin Durant  45825710\n",
       "..                 ...       ...\n",
       "648    Jaime Echenique     57993\n",
       "649       Luca Vildoza     46665\n",
       "650     Zavier Simpson     40595\n",
       "651  Mfiondu Kabengele     20924\n",
       "652     Melvin Frazier     14498\n",
       "\n",
       "[653 rows x 2 columns]"
      ]
     },
     "execution_count": 18,
     "metadata": {},
     "output_type": "execute_result"
    }
   ],
   "source": [
    "salaries_df = pd.DataFrame(all_together)\n",
    "salaries_df"
   ]
  },
  {
   "cell_type": "markdown",
   "metadata": {},
   "source": [
    "## INSTAGRAM FOLLOWERS"
   ]
  },
  {
   "cell_type": "code",
   "execution_count": 19,
   "metadata": {},
   "outputs": [],
   "source": [
    "res = requests.get('https://www.popularbasketballers.com/')\n",
    "html = res.content\n",
    "soup = BeautifulSoup(html, \"html.parser\")"
   ]
  },
  {
   "cell_type": "code",
   "execution_count": 20,
   "metadata": {},
   "outputs": [
    {
     "data": {
      "text/plain": [
       "467"
      ]
     },
     "execution_count": 20,
     "metadata": {},
     "output_type": "execute_result"
    }
   ],
   "source": [
    "players_f = soup.find_all(\"tr\")\n",
    "players_f.pop(0)\n",
    "len(players_f)"
   ]
  },
  {
   "cell_type": "code",
   "execution_count": 21,
   "metadata": {},
   "outputs": [
    {
     "data": {
      "text/plain": [
       "<tr>\n",
       "<td align=\"right\">1</td>\n",
       "<td>LeBron James</td>\n",
       "<td>133,332,035</td>\n",
       "</tr>"
      ]
     },
     "execution_count": 21,
     "metadata": {},
     "output_type": "execute_result"
    }
   ],
   "source": [
    "players_f[0]"
   ]
  },
  {
   "cell_type": "code",
   "execution_count": 22,
   "metadata": {},
   "outputs": [
    {
     "data": {
      "text/plain": [
       "['1', 'LeBron James', '133332035']"
      ]
     },
     "execution_count": 22,
     "metadata": {},
     "output_type": "execute_result"
    }
   ],
   "source": [
    "name_fol = [i.getText().strip().replace(',','').split('\\n') for i in players_f]\n",
    "name_fol[0]"
   ]
  },
  {
   "cell_type": "code",
   "execution_count": 23,
   "metadata": {},
   "outputs": [
    {
     "name": "stdout",
     "output_type": "stream",
     "text": [
      "['LeBron James', 'Stephen Curry', 'Russell Westbrook', 'Kyrie Irving', 'Lonzo Ball']\n",
      "[133332035, 46394997, 20663214, 17343900, 14938820]\n"
     ]
    }
   ],
   "source": [
    "full_name_list = [i[1] for i in name_fol]\n",
    "followers_list = [int(i[2]) for i in name_fol]\n",
    "print(full_name_list[:5])\n",
    "print(followers_list[:5])"
   ]
  },
  {
   "cell_type": "code",
   "execution_count": 24,
   "metadata": {},
   "outputs": [],
   "source": [
    "all_together_2 = {\n",
    "    \"full_name_2\" : full_name_list,\n",
    "    \"FOLLOWERS\" : followers_list\n",
    "}"
   ]
  },
  {
   "cell_type": "code",
   "execution_count": 25,
   "metadata": {},
   "outputs": [
    {
     "data": {
      "text/html": [
       "<div>\n",
       "<style scoped>\n",
       "    .dataframe tbody tr th:only-of-type {\n",
       "        vertical-align: middle;\n",
       "    }\n",
       "\n",
       "    .dataframe tbody tr th {\n",
       "        vertical-align: top;\n",
       "    }\n",
       "\n",
       "    .dataframe thead th {\n",
       "        text-align: right;\n",
       "    }\n",
       "</style>\n",
       "<table border=\"1\" class=\"dataframe\">\n",
       "  <thead>\n",
       "    <tr style=\"text-align: right;\">\n",
       "      <th></th>\n",
       "      <th>full_name_2</th>\n",
       "      <th>FOLLOWERS</th>\n",
       "    </tr>\n",
       "  </thead>\n",
       "  <tbody>\n",
       "    <tr>\n",
       "      <th>0</th>\n",
       "      <td>LeBron James</td>\n",
       "      <td>133332035</td>\n",
       "    </tr>\n",
       "    <tr>\n",
       "      <th>1</th>\n",
       "      <td>Stephen Curry</td>\n",
       "      <td>46394997</td>\n",
       "    </tr>\n",
       "    <tr>\n",
       "      <th>2</th>\n",
       "      <td>Russell Westbrook</td>\n",
       "      <td>20663214</td>\n",
       "    </tr>\n",
       "    <tr>\n",
       "      <th>3</th>\n",
       "      <td>Kyrie Irving</td>\n",
       "      <td>17343900</td>\n",
       "    </tr>\n",
       "    <tr>\n",
       "      <th>4</th>\n",
       "      <td>Lonzo Ball</td>\n",
       "      <td>14938820</td>\n",
       "    </tr>\n",
       "    <tr>\n",
       "      <th>...</th>\n",
       "      <td>...</td>\n",
       "      <td>...</td>\n",
       "    </tr>\n",
       "    <tr>\n",
       "      <th>462</th>\n",
       "      <td>Julian Champagnie</td>\n",
       "      <td>10970</td>\n",
       "    </tr>\n",
       "    <tr>\n",
       "      <th>463</th>\n",
       "      <td>Eugene Omoruyi</td>\n",
       "      <td>10000</td>\n",
       "    </tr>\n",
       "    <tr>\n",
       "      <th>464</th>\n",
       "      <td>Terry Taylor</td>\n",
       "      <td>7944</td>\n",
       "    </tr>\n",
       "    <tr>\n",
       "      <th>465</th>\n",
       "      <td>Javon Freeman-Liberty</td>\n",
       "      <td>7100</td>\n",
       "    </tr>\n",
       "    <tr>\n",
       "      <th>466</th>\n",
       "      <td>Jordan Schakel</td>\n",
       "      <td>4645</td>\n",
       "    </tr>\n",
       "  </tbody>\n",
       "</table>\n",
       "<p>467 rows × 2 columns</p>\n",
       "</div>"
      ],
      "text/plain": [
       "               full_name_2  FOLLOWERS\n",
       "0             LeBron James  133332035\n",
       "1            Stephen Curry   46394997\n",
       "2        Russell Westbrook   20663214\n",
       "3             Kyrie Irving   17343900\n",
       "4               Lonzo Ball   14938820\n",
       "..                     ...        ...\n",
       "462      Julian Champagnie      10970\n",
       "463         Eugene Omoruyi      10000\n",
       "464           Terry Taylor       7944\n",
       "465  Javon Freeman-Liberty       7100\n",
       "466         Jordan Schakel       4645\n",
       "\n",
       "[467 rows x 2 columns]"
      ]
     },
     "execution_count": 25,
     "metadata": {},
     "output_type": "execute_result"
    }
   ],
   "source": [
    "followers_df = pd.DataFrame(all_together_2)\n",
    "followers_df"
   ]
  },
  {
   "cell_type": "markdown",
   "metadata": {},
   "source": [
    "## MERGE"
   ]
  },
  {
   "cell_type": "code",
   "execution_count": 26,
   "metadata": {},
   "outputs": [
    {
     "data": {
      "text/html": [
       "<div>\n",
       "<style scoped>\n",
       "    .dataframe tbody tr th:only-of-type {\n",
       "        vertical-align: middle;\n",
       "    }\n",
       "\n",
       "    .dataframe tbody tr th {\n",
       "        vertical-align: top;\n",
       "    }\n",
       "\n",
       "    .dataframe thead th {\n",
       "        text-align: right;\n",
       "    }\n",
       "</style>\n",
       "<table border=\"1\" class=\"dataframe\">\n",
       "  <thead>\n",
       "    <tr style=\"text-align: right;\">\n",
       "      <th></th>\n",
       "      <th>FULL NAME</th>\n",
       "      <th>TEAM</th>\n",
       "      <th>POSITION</th>\n",
       "      <th>AGE</th>\n",
       "      <th>EFFICIENCY</th>\n",
       "      <th>full_name_1</th>\n",
       "      <th>SALARY</th>\n",
       "    </tr>\n",
       "  </thead>\n",
       "  <tbody>\n",
       "    <tr>\n",
       "      <th>0</th>\n",
       "      <td>Precious Achiuwa</td>\n",
       "      <td>Toronto Raptors</td>\n",
       "      <td>Small Forward (3)</td>\n",
       "      <td>22</td>\n",
       "      <td>12.0973</td>\n",
       "      <td>Precious Achiuwa</td>\n",
       "      <td>2956915.0</td>\n",
       "    </tr>\n",
       "    <tr>\n",
       "      <th>1</th>\n",
       "      <td>Steven Adams</td>\n",
       "      <td>Memphis Grizzlies</td>\n",
       "      <td>Center (5)</td>\n",
       "      <td>28</td>\n",
       "      <td>17.4140</td>\n",
       "      <td>Steven Adams</td>\n",
       "      <td>18619958.0</td>\n",
       "    </tr>\n",
       "    <tr>\n",
       "      <th>2</th>\n",
       "      <td>Bam Adebayo</td>\n",
       "      <td>Miami Heat</td>\n",
       "      <td>Power Forward (4)</td>\n",
       "      <td>24</td>\n",
       "      <td>24.6928</td>\n",
       "      <td>Bam Adebayo</td>\n",
       "      <td>30649609.0</td>\n",
       "    </tr>\n",
       "    <tr>\n",
       "      <th>3</th>\n",
       "      <td>Santi Aldama</td>\n",
       "      <td>Memphis Grizzlies</td>\n",
       "      <td>Power Forward (4)</td>\n",
       "      <td>21</td>\n",
       "      <td>5.2532</td>\n",
       "      <td>NaN</td>\n",
       "      <td>NaN</td>\n",
       "    </tr>\n",
       "    <tr>\n",
       "      <th>4</th>\n",
       "      <td>LaMarcus Aldridge</td>\n",
       "      <td>Brooklyn Nets</td>\n",
       "      <td>Power Forward (4)</td>\n",
       "      <td>36</td>\n",
       "      <td>14.5516</td>\n",
       "      <td>LaMarcus Aldridge</td>\n",
       "      <td>2881021.0</td>\n",
       "    </tr>\n",
       "    <tr>\n",
       "      <th>...</th>\n",
       "      <td>...</td>\n",
       "      <td>...</td>\n",
       "      <td>...</td>\n",
       "      <td>...</td>\n",
       "      <td>...</td>\n",
       "      <td>...</td>\n",
       "      <td>...</td>\n",
       "    </tr>\n",
       "    <tr>\n",
       "      <th>711</th>\n",
       "      <td>Thaddeus Young</td>\n",
       "      <td>Toronto Raptors</td>\n",
       "      <td>Small Forward (3)</td>\n",
       "      <td>33</td>\n",
       "      <td>10.1738</td>\n",
       "      <td>Thaddeus Young</td>\n",
       "      <td>15475579.0</td>\n",
       "    </tr>\n",
       "    <tr>\n",
       "      <th>712</th>\n",
       "      <td>Trae Young</td>\n",
       "      <td>Atlanta Hawks</td>\n",
       "      <td>Point Guard (1)</td>\n",
       "      <td>23</td>\n",
       "      <td>27.5852</td>\n",
       "      <td>Trae Young</td>\n",
       "      <td>9080829.0</td>\n",
       "    </tr>\n",
       "    <tr>\n",
       "      <th>713</th>\n",
       "      <td>Omer Yurtseven</td>\n",
       "      <td>Miami Heat</td>\n",
       "      <td>Center (5)</td>\n",
       "      <td>23</td>\n",
       "      <td>9.0238</td>\n",
       "      <td>Omer Yurtseven</td>\n",
       "      <td>1623970.0</td>\n",
       "    </tr>\n",
       "    <tr>\n",
       "      <th>714</th>\n",
       "      <td>Cody Zeller</td>\n",
       "      <td>Portland Trail Blazers</td>\n",
       "      <td>Power Forward (4)</td>\n",
       "      <td>29</td>\n",
       "      <td>8.4804</td>\n",
       "      <td>Cody Zeller</td>\n",
       "      <td>2606136.0</td>\n",
       "    </tr>\n",
       "    <tr>\n",
       "      <th>715</th>\n",
       "      <td>Ivica Zubac</td>\n",
       "      <td>Los Angeles Clippers</td>\n",
       "      <td>Center (5)</td>\n",
       "      <td>25</td>\n",
       "      <td>16.8880</td>\n",
       "      <td>Ivica Zubac</td>\n",
       "      <td>8199677.0</td>\n",
       "    </tr>\n",
       "  </tbody>\n",
       "</table>\n",
       "<p>716 rows × 7 columns</p>\n",
       "</div>"
      ],
      "text/plain": [
       "             FULL NAME                    TEAM           POSITION  AGE  \\\n",
       "0     Precious Achiuwa         Toronto Raptors  Small Forward (3)   22   \n",
       "1         Steven Adams       Memphis Grizzlies         Center (5)   28   \n",
       "2          Bam Adebayo              Miami Heat  Power Forward (4)   24   \n",
       "3         Santi Aldama       Memphis Grizzlies  Power Forward (4)   21   \n",
       "4    LaMarcus Aldridge           Brooklyn Nets  Power Forward (4)   36   \n",
       "..                 ...                     ...                ...  ...   \n",
       "711     Thaddeus Young         Toronto Raptors  Small Forward (3)   33   \n",
       "712         Trae Young           Atlanta Hawks    Point Guard (1)   23   \n",
       "713     Omer Yurtseven              Miami Heat         Center (5)   23   \n",
       "714        Cody Zeller  Portland Trail Blazers  Power Forward (4)   29   \n",
       "715        Ivica Zubac    Los Angeles Clippers         Center (5)   25   \n",
       "\n",
       "     EFFICIENCY        full_name_1      SALARY  \n",
       "0       12.0973   Precious Achiuwa   2956915.0  \n",
       "1       17.4140       Steven Adams  18619958.0  \n",
       "2       24.6928        Bam Adebayo  30649609.0  \n",
       "3        5.2532                NaN         NaN  \n",
       "4       14.5516  LaMarcus Aldridge   2881021.0  \n",
       "..          ...                ...         ...  \n",
       "711     10.1738     Thaddeus Young  15475579.0  \n",
       "712     27.5852         Trae Young   9080829.0  \n",
       "713      9.0238     Omer Yurtseven   1623970.0  \n",
       "714      8.4804        Cody Zeller   2606136.0  \n",
       "715     16.8880        Ivica Zubac   8199677.0  \n",
       "\n",
       "[716 rows x 7 columns]"
      ]
     },
     "execution_count": 26,
     "metadata": {},
     "output_type": "execute_result"
    }
   ],
   "source": [
    "df_merge = pd.merge(df_2, salaries_df, left_on='FULL NAME', right_on='full_name_1', how='left')\n",
    "df_merge"
   ]
  },
  {
   "cell_type": "code",
   "execution_count": 27,
   "metadata": {},
   "outputs": [
    {
     "data": {
      "text/html": [
       "<div>\n",
       "<style scoped>\n",
       "    .dataframe tbody tr th:only-of-type {\n",
       "        vertical-align: middle;\n",
       "    }\n",
       "\n",
       "    .dataframe tbody tr th {\n",
       "        vertical-align: top;\n",
       "    }\n",
       "\n",
       "    .dataframe thead th {\n",
       "        text-align: right;\n",
       "    }\n",
       "</style>\n",
       "<table border=\"1\" class=\"dataframe\">\n",
       "  <thead>\n",
       "    <tr style=\"text-align: right;\">\n",
       "      <th></th>\n",
       "      <th>FULL NAME</th>\n",
       "      <th>TEAM</th>\n",
       "      <th>POSITION</th>\n",
       "      <th>AGE</th>\n",
       "      <th>EFFICIENCY</th>\n",
       "      <th>full_name_1</th>\n",
       "      <th>SALARY</th>\n",
       "      <th>full_name_2</th>\n",
       "      <th>FOLLOWERS</th>\n",
       "    </tr>\n",
       "  </thead>\n",
       "  <tbody>\n",
       "    <tr>\n",
       "      <th>0</th>\n",
       "      <td>Precious Achiuwa</td>\n",
       "      <td>Toronto Raptors</td>\n",
       "      <td>Small Forward (3)</td>\n",
       "      <td>22</td>\n",
       "      <td>12.0973</td>\n",
       "      <td>Precious Achiuwa</td>\n",
       "      <td>2956915.0</td>\n",
       "      <td>Precious Achiuwa</td>\n",
       "      <td>178612.0</td>\n",
       "    </tr>\n",
       "    <tr>\n",
       "      <th>1</th>\n",
       "      <td>Steven Adams</td>\n",
       "      <td>Memphis Grizzlies</td>\n",
       "      <td>Center (5)</td>\n",
       "      <td>28</td>\n",
       "      <td>17.4140</td>\n",
       "      <td>Steven Adams</td>\n",
       "      <td>18619958.0</td>\n",
       "      <td>Steven Adams</td>\n",
       "      <td>518545.0</td>\n",
       "    </tr>\n",
       "    <tr>\n",
       "      <th>2</th>\n",
       "      <td>Bam Adebayo</td>\n",
       "      <td>Miami Heat</td>\n",
       "      <td>Power Forward (4)</td>\n",
       "      <td>24</td>\n",
       "      <td>24.6928</td>\n",
       "      <td>Bam Adebayo</td>\n",
       "      <td>30649609.0</td>\n",
       "      <td>Bam Adebayo</td>\n",
       "      <td>844028.0</td>\n",
       "    </tr>\n",
       "    <tr>\n",
       "      <th>3</th>\n",
       "      <td>Santi Aldama</td>\n",
       "      <td>Memphis Grizzlies</td>\n",
       "      <td>Power Forward (4)</td>\n",
       "      <td>21</td>\n",
       "      <td>5.2532</td>\n",
       "      <td>NaN</td>\n",
       "      <td>NaN</td>\n",
       "      <td>Santi Aldama</td>\n",
       "      <td>16453.0</td>\n",
       "    </tr>\n",
       "    <tr>\n",
       "      <th>4</th>\n",
       "      <td>LaMarcus Aldridge</td>\n",
       "      <td>Brooklyn Nets</td>\n",
       "      <td>Power Forward (4)</td>\n",
       "      <td>36</td>\n",
       "      <td>14.5516</td>\n",
       "      <td>LaMarcus Aldridge</td>\n",
       "      <td>2881021.0</td>\n",
       "      <td>NaN</td>\n",
       "      <td>NaN</td>\n",
       "    </tr>\n",
       "    <tr>\n",
       "      <th>...</th>\n",
       "      <td>...</td>\n",
       "      <td>...</td>\n",
       "      <td>...</td>\n",
       "      <td>...</td>\n",
       "      <td>...</td>\n",
       "      <td>...</td>\n",
       "      <td>...</td>\n",
       "      <td>...</td>\n",
       "      <td>...</td>\n",
       "    </tr>\n",
       "    <tr>\n",
       "      <th>711</th>\n",
       "      <td>Thaddeus Young</td>\n",
       "      <td>Toronto Raptors</td>\n",
       "      <td>Small Forward (3)</td>\n",
       "      <td>33</td>\n",
       "      <td>10.1738</td>\n",
       "      <td>Thaddeus Young</td>\n",
       "      <td>15475579.0</td>\n",
       "      <td>NaN</td>\n",
       "      <td>NaN</td>\n",
       "    </tr>\n",
       "    <tr>\n",
       "      <th>712</th>\n",
       "      <td>Trae Young</td>\n",
       "      <td>Atlanta Hawks</td>\n",
       "      <td>Point Guard (1)</td>\n",
       "      <td>23</td>\n",
       "      <td>27.5852</td>\n",
       "      <td>Trae Young</td>\n",
       "      <td>9080829.0</td>\n",
       "      <td>Trae Young</td>\n",
       "      <td>4791317.0</td>\n",
       "    </tr>\n",
       "    <tr>\n",
       "      <th>713</th>\n",
       "      <td>Omer Yurtseven</td>\n",
       "      <td>Miami Heat</td>\n",
       "      <td>Center (5)</td>\n",
       "      <td>23</td>\n",
       "      <td>9.0238</td>\n",
       "      <td>Omer Yurtseven</td>\n",
       "      <td>1623970.0</td>\n",
       "      <td>Omer Yurtseven</td>\n",
       "      <td>78776.0</td>\n",
       "    </tr>\n",
       "    <tr>\n",
       "      <th>714</th>\n",
       "      <td>Cody Zeller</td>\n",
       "      <td>Portland Trail Blazers</td>\n",
       "      <td>Power Forward (4)</td>\n",
       "      <td>29</td>\n",
       "      <td>8.4804</td>\n",
       "      <td>Cody Zeller</td>\n",
       "      <td>2606136.0</td>\n",
       "      <td>Cody Zeller</td>\n",
       "      <td>41028.0</td>\n",
       "    </tr>\n",
       "    <tr>\n",
       "      <th>715</th>\n",
       "      <td>Ivica Zubac</td>\n",
       "      <td>Los Angeles Clippers</td>\n",
       "      <td>Center (5)</td>\n",
       "      <td>25</td>\n",
       "      <td>16.8880</td>\n",
       "      <td>Ivica Zubac</td>\n",
       "      <td>8199677.0</td>\n",
       "      <td>Ivica Zubac</td>\n",
       "      <td>162095.0</td>\n",
       "    </tr>\n",
       "  </tbody>\n",
       "</table>\n",
       "<p>716 rows × 9 columns</p>\n",
       "</div>"
      ],
      "text/plain": [
       "             FULL NAME                    TEAM           POSITION  AGE  \\\n",
       "0     Precious Achiuwa         Toronto Raptors  Small Forward (3)   22   \n",
       "1         Steven Adams       Memphis Grizzlies         Center (5)   28   \n",
       "2          Bam Adebayo              Miami Heat  Power Forward (4)   24   \n",
       "3         Santi Aldama       Memphis Grizzlies  Power Forward (4)   21   \n",
       "4    LaMarcus Aldridge           Brooklyn Nets  Power Forward (4)   36   \n",
       "..                 ...                     ...                ...  ...   \n",
       "711     Thaddeus Young         Toronto Raptors  Small Forward (3)   33   \n",
       "712         Trae Young           Atlanta Hawks    Point Guard (1)   23   \n",
       "713     Omer Yurtseven              Miami Heat         Center (5)   23   \n",
       "714        Cody Zeller  Portland Trail Blazers  Power Forward (4)   29   \n",
       "715        Ivica Zubac    Los Angeles Clippers         Center (5)   25   \n",
       "\n",
       "     EFFICIENCY        full_name_1      SALARY       full_name_2  FOLLOWERS  \n",
       "0       12.0973   Precious Achiuwa   2956915.0  Precious Achiuwa   178612.0  \n",
       "1       17.4140       Steven Adams  18619958.0      Steven Adams   518545.0  \n",
       "2       24.6928        Bam Adebayo  30649609.0       Bam Adebayo   844028.0  \n",
       "3        5.2532                NaN         NaN      Santi Aldama    16453.0  \n",
       "4       14.5516  LaMarcus Aldridge   2881021.0               NaN        NaN  \n",
       "..          ...                ...         ...               ...        ...  \n",
       "711     10.1738     Thaddeus Young  15475579.0               NaN        NaN  \n",
       "712     27.5852         Trae Young   9080829.0        Trae Young  4791317.0  \n",
       "713      9.0238     Omer Yurtseven   1623970.0    Omer Yurtseven    78776.0  \n",
       "714      8.4804        Cody Zeller   2606136.0       Cody Zeller    41028.0  \n",
       "715     16.8880        Ivica Zubac   8199677.0       Ivica Zubac   162095.0  \n",
       "\n",
       "[716 rows x 9 columns]"
      ]
     },
     "execution_count": 27,
     "metadata": {},
     "output_type": "execute_result"
    }
   ],
   "source": [
    "final_df = pd.merge(df_merge, followers_df, left_on='FULL NAME', right_on='full_name_2', how='left')\n",
    "final_df"
   ]
  },
  {
   "cell_type": "code",
   "execution_count": 28,
   "metadata": {},
   "outputs": [],
   "source": [
    "final_df.drop(columns=['full_name_1','full_name_2'], inplace=True)"
   ]
  },
  {
   "cell_type": "code",
   "execution_count": 29,
   "metadata": {},
   "outputs": [
    {
     "data": {
      "text/html": [
       "<div>\n",
       "<style scoped>\n",
       "    .dataframe tbody tr th:only-of-type {\n",
       "        vertical-align: middle;\n",
       "    }\n",
       "\n",
       "    .dataframe tbody tr th {\n",
       "        vertical-align: top;\n",
       "    }\n",
       "\n",
       "    .dataframe thead th {\n",
       "        text-align: right;\n",
       "    }\n",
       "</style>\n",
       "<table border=\"1\" class=\"dataframe\">\n",
       "  <thead>\n",
       "    <tr style=\"text-align: right;\">\n",
       "      <th></th>\n",
       "      <th>FULL NAME</th>\n",
       "      <th>TEAM</th>\n",
       "      <th>POSITION</th>\n",
       "      <th>AGE</th>\n",
       "      <th>EFFICIENCY</th>\n",
       "      <th>SALARY</th>\n",
       "      <th>FOLLOWERS</th>\n",
       "    </tr>\n",
       "  </thead>\n",
       "  <tbody>\n",
       "    <tr>\n",
       "      <th>0</th>\n",
       "      <td>Precious Achiuwa</td>\n",
       "      <td>Toronto Raptors</td>\n",
       "      <td>Small Forward (3)</td>\n",
       "      <td>22</td>\n",
       "      <td>12.0973</td>\n",
       "      <td>2956915.0</td>\n",
       "      <td>178612.0</td>\n",
       "    </tr>\n",
       "    <tr>\n",
       "      <th>1</th>\n",
       "      <td>Steven Adams</td>\n",
       "      <td>Memphis Grizzlies</td>\n",
       "      <td>Center (5)</td>\n",
       "      <td>28</td>\n",
       "      <td>17.4140</td>\n",
       "      <td>18619958.0</td>\n",
       "      <td>518545.0</td>\n",
       "    </tr>\n",
       "    <tr>\n",
       "      <th>2</th>\n",
       "      <td>Bam Adebayo</td>\n",
       "      <td>Miami Heat</td>\n",
       "      <td>Power Forward (4)</td>\n",
       "      <td>24</td>\n",
       "      <td>24.6928</td>\n",
       "      <td>30649609.0</td>\n",
       "      <td>844028.0</td>\n",
       "    </tr>\n",
       "    <tr>\n",
       "      <th>3</th>\n",
       "      <td>Santi Aldama</td>\n",
       "      <td>Memphis Grizzlies</td>\n",
       "      <td>Power Forward (4)</td>\n",
       "      <td>21</td>\n",
       "      <td>5.2532</td>\n",
       "      <td>NaN</td>\n",
       "      <td>16453.0</td>\n",
       "    </tr>\n",
       "    <tr>\n",
       "      <th>4</th>\n",
       "      <td>LaMarcus Aldridge</td>\n",
       "      <td>Brooklyn Nets</td>\n",
       "      <td>Power Forward (4)</td>\n",
       "      <td>36</td>\n",
       "      <td>14.5516</td>\n",
       "      <td>2881021.0</td>\n",
       "      <td>NaN</td>\n",
       "    </tr>\n",
       "    <tr>\n",
       "      <th>...</th>\n",
       "      <td>...</td>\n",
       "      <td>...</td>\n",
       "      <td>...</td>\n",
       "      <td>...</td>\n",
       "      <td>...</td>\n",
       "      <td>...</td>\n",
       "      <td>...</td>\n",
       "    </tr>\n",
       "    <tr>\n",
       "      <th>711</th>\n",
       "      <td>Thaddeus Young</td>\n",
       "      <td>Toronto Raptors</td>\n",
       "      <td>Small Forward (3)</td>\n",
       "      <td>33</td>\n",
       "      <td>10.1738</td>\n",
       "      <td>15475579.0</td>\n",
       "      <td>NaN</td>\n",
       "    </tr>\n",
       "    <tr>\n",
       "      <th>712</th>\n",
       "      <td>Trae Young</td>\n",
       "      <td>Atlanta Hawks</td>\n",
       "      <td>Point Guard (1)</td>\n",
       "      <td>23</td>\n",
       "      <td>27.5852</td>\n",
       "      <td>9080829.0</td>\n",
       "      <td>4791317.0</td>\n",
       "    </tr>\n",
       "    <tr>\n",
       "      <th>713</th>\n",
       "      <td>Omer Yurtseven</td>\n",
       "      <td>Miami Heat</td>\n",
       "      <td>Center (5)</td>\n",
       "      <td>23</td>\n",
       "      <td>9.0238</td>\n",
       "      <td>1623970.0</td>\n",
       "      <td>78776.0</td>\n",
       "    </tr>\n",
       "    <tr>\n",
       "      <th>714</th>\n",
       "      <td>Cody Zeller</td>\n",
       "      <td>Portland Trail Blazers</td>\n",
       "      <td>Power Forward (4)</td>\n",
       "      <td>29</td>\n",
       "      <td>8.4804</td>\n",
       "      <td>2606136.0</td>\n",
       "      <td>41028.0</td>\n",
       "    </tr>\n",
       "    <tr>\n",
       "      <th>715</th>\n",
       "      <td>Ivica Zubac</td>\n",
       "      <td>Los Angeles Clippers</td>\n",
       "      <td>Center (5)</td>\n",
       "      <td>25</td>\n",
       "      <td>16.8880</td>\n",
       "      <td>8199677.0</td>\n",
       "      <td>162095.0</td>\n",
       "    </tr>\n",
       "  </tbody>\n",
       "</table>\n",
       "<p>716 rows × 7 columns</p>\n",
       "</div>"
      ],
      "text/plain": [
       "             FULL NAME                    TEAM           POSITION  AGE  \\\n",
       "0     Precious Achiuwa         Toronto Raptors  Small Forward (3)   22   \n",
       "1         Steven Adams       Memphis Grizzlies         Center (5)   28   \n",
       "2          Bam Adebayo              Miami Heat  Power Forward (4)   24   \n",
       "3         Santi Aldama       Memphis Grizzlies  Power Forward (4)   21   \n",
       "4    LaMarcus Aldridge           Brooklyn Nets  Power Forward (4)   36   \n",
       "..                 ...                     ...                ...  ...   \n",
       "711     Thaddeus Young         Toronto Raptors  Small Forward (3)   33   \n",
       "712         Trae Young           Atlanta Hawks    Point Guard (1)   23   \n",
       "713     Omer Yurtseven              Miami Heat         Center (5)   23   \n",
       "714        Cody Zeller  Portland Trail Blazers  Power Forward (4)   29   \n",
       "715        Ivica Zubac    Los Angeles Clippers         Center (5)   25   \n",
       "\n",
       "     EFFICIENCY      SALARY  FOLLOWERS  \n",
       "0       12.0973   2956915.0   178612.0  \n",
       "1       17.4140  18619958.0   518545.0  \n",
       "2       24.6928  30649609.0   844028.0  \n",
       "3        5.2532         NaN    16453.0  \n",
       "4       14.5516   2881021.0        NaN  \n",
       "..          ...         ...        ...  \n",
       "711     10.1738  15475579.0        NaN  \n",
       "712     27.5852   9080829.0  4791317.0  \n",
       "713      9.0238   1623970.0    78776.0  \n",
       "714      8.4804   2606136.0    41028.0  \n",
       "715     16.8880   8199677.0   162095.0  \n",
       "\n",
       "[716 rows x 7 columns]"
      ]
     },
     "execution_count": 29,
     "metadata": {},
     "output_type": "execute_result"
    }
   ],
   "source": [
    "final_df"
   ]
  },
  {
   "cell_type": "code",
   "execution_count": 30,
   "metadata": {},
   "outputs": [
    {
     "data": {
      "text/html": [
       "<div>\n",
       "<style scoped>\n",
       "    .dataframe tbody tr th:only-of-type {\n",
       "        vertical-align: middle;\n",
       "    }\n",
       "\n",
       "    .dataframe tbody tr th {\n",
       "        vertical-align: top;\n",
       "    }\n",
       "\n",
       "    .dataframe thead th {\n",
       "        text-align: right;\n",
       "    }\n",
       "</style>\n",
       "<table border=\"1\" class=\"dataframe\">\n",
       "  <thead>\n",
       "    <tr style=\"text-align: right;\">\n",
       "      <th></th>\n",
       "      <th>FULL NAME</th>\n",
       "      <th>TEAM</th>\n",
       "      <th>POSITION</th>\n",
       "      <th>AGE</th>\n",
       "      <th>EFFICIENCY</th>\n",
       "      <th>SALARY</th>\n",
       "      <th>FOLLOWERS</th>\n",
       "    </tr>\n",
       "  </thead>\n",
       "  <tbody>\n",
       "    <tr>\n",
       "      <th>0</th>\n",
       "      <td>Precious Achiuwa</td>\n",
       "      <td>Toronto Raptors</td>\n",
       "      <td>Small Forward (3)</td>\n",
       "      <td>22</td>\n",
       "      <td>12</td>\n",
       "      <td>2956915</td>\n",
       "      <td>178612</td>\n",
       "    </tr>\n",
       "    <tr>\n",
       "      <th>1</th>\n",
       "      <td>Steven Adams</td>\n",
       "      <td>Memphis Grizzlies</td>\n",
       "      <td>Center (5)</td>\n",
       "      <td>28</td>\n",
       "      <td>17</td>\n",
       "      <td>18619958</td>\n",
       "      <td>518545</td>\n",
       "    </tr>\n",
       "    <tr>\n",
       "      <th>2</th>\n",
       "      <td>Bam Adebayo</td>\n",
       "      <td>Miami Heat</td>\n",
       "      <td>Power Forward (4)</td>\n",
       "      <td>24</td>\n",
       "      <td>25</td>\n",
       "      <td>30649609</td>\n",
       "      <td>844028</td>\n",
       "    </tr>\n",
       "    <tr>\n",
       "      <th>3</th>\n",
       "      <td>Nickeil Alexander-Walker</td>\n",
       "      <td>New Orleans Pelicans</td>\n",
       "      <td>Point Guard (1)</td>\n",
       "      <td>23</td>\n",
       "      <td>12</td>\n",
       "      <td>3556962</td>\n",
       "      <td>130983</td>\n",
       "    </tr>\n",
       "    <tr>\n",
       "      <th>4</th>\n",
       "      <td>Nickeil Alexander-Walker</td>\n",
       "      <td>Utah Jazz</td>\n",
       "      <td>Point Guard (1)</td>\n",
       "      <td>23</td>\n",
       "      <td>4</td>\n",
       "      <td>3556962</td>\n",
       "      <td>130983</td>\n",
       "    </tr>\n",
       "    <tr>\n",
       "      <th>...</th>\n",
       "      <td>...</td>\n",
       "      <td>...</td>\n",
       "      <td>...</td>\n",
       "      <td>...</td>\n",
       "      <td>...</td>\n",
       "      <td>...</td>\n",
       "      <td>...</td>\n",
       "    </tr>\n",
       "    <tr>\n",
       "      <th>391</th>\n",
       "      <td>Delon Wright</td>\n",
       "      <td>Atlanta Hawks</td>\n",
       "      <td>Point Guard (1)</td>\n",
       "      <td>29</td>\n",
       "      <td>9</td>\n",
       "      <td>9298779</td>\n",
       "      <td>123608</td>\n",
       "    </tr>\n",
       "    <tr>\n",
       "      <th>392</th>\n",
       "      <td>Trae Young</td>\n",
       "      <td>Atlanta Hawks</td>\n",
       "      <td>Point Guard (1)</td>\n",
       "      <td>23</td>\n",
       "      <td>28</td>\n",
       "      <td>9080829</td>\n",
       "      <td>4791317</td>\n",
       "    </tr>\n",
       "    <tr>\n",
       "      <th>393</th>\n",
       "      <td>Omer Yurtseven</td>\n",
       "      <td>Miami Heat</td>\n",
       "      <td>Center (5)</td>\n",
       "      <td>23</td>\n",
       "      <td>9</td>\n",
       "      <td>1623970</td>\n",
       "      <td>78776</td>\n",
       "    </tr>\n",
       "    <tr>\n",
       "      <th>394</th>\n",
       "      <td>Cody Zeller</td>\n",
       "      <td>Portland Trail Blazers</td>\n",
       "      <td>Power Forward (4)</td>\n",
       "      <td>29</td>\n",
       "      <td>8</td>\n",
       "      <td>2606136</td>\n",
       "      <td>41028</td>\n",
       "    </tr>\n",
       "    <tr>\n",
       "      <th>395</th>\n",
       "      <td>Ivica Zubac</td>\n",
       "      <td>Los Angeles Clippers</td>\n",
       "      <td>Center (5)</td>\n",
       "      <td>25</td>\n",
       "      <td>17</td>\n",
       "      <td>8199677</td>\n",
       "      <td>162095</td>\n",
       "    </tr>\n",
       "  </tbody>\n",
       "</table>\n",
       "<p>396 rows × 7 columns</p>\n",
       "</div>"
      ],
      "text/plain": [
       "                    FULL NAME                    TEAM           POSITION  AGE  \\\n",
       "0            Precious Achiuwa         Toronto Raptors  Small Forward (3)   22   \n",
       "1                Steven Adams       Memphis Grizzlies         Center (5)   28   \n",
       "2                 Bam Adebayo              Miami Heat  Power Forward (4)   24   \n",
       "3    Nickeil Alexander-Walker    New Orleans Pelicans    Point Guard (1)   23   \n",
       "4    Nickeil Alexander-Walker               Utah Jazz    Point Guard (1)   23   \n",
       "..                        ...                     ...                ...  ...   \n",
       "391              Delon Wright           Atlanta Hawks    Point Guard (1)   29   \n",
       "392                Trae Young           Atlanta Hawks    Point Guard (1)   23   \n",
       "393            Omer Yurtseven              Miami Heat         Center (5)   23   \n",
       "394               Cody Zeller  Portland Trail Blazers  Power Forward (4)   29   \n",
       "395               Ivica Zubac    Los Angeles Clippers         Center (5)   25   \n",
       "\n",
       "     EFFICIENCY    SALARY  FOLLOWERS  \n",
       "0            12   2956915     178612  \n",
       "1            17  18619958     518545  \n",
       "2            25  30649609     844028  \n",
       "3            12   3556962     130983  \n",
       "4             4   3556962     130983  \n",
       "..          ...       ...        ...  \n",
       "391           9   9298779     123608  \n",
       "392          28   9080829    4791317  \n",
       "393           9   1623970      78776  \n",
       "394           8   2606136      41028  \n",
       "395          17   8199677     162095  \n",
       "\n",
       "[396 rows x 7 columns]"
      ]
     },
     "execution_count": 30,
     "metadata": {},
     "output_type": "execute_result"
    }
   ],
   "source": [
    "final_df.dropna(axis = 0, how = 'any', inplace=True)\n",
    "final_df.reset_index(drop=True, inplace=True)\n",
    "final_df['SALARY'] = final_df['SALARY'].astype(int)\n",
    "final_df['FOLLOWERS'] = final_df['FOLLOWERS'].astype(int)\n",
    "final_df['EFFICIENCY'] = final_df['EFFICIENCY'].round(0).astype(int)\n",
    "final_df"
   ]
  },
  {
   "cell_type": "code",
   "execution_count": 31,
   "metadata": {},
   "outputs": [
    {
     "data": {
      "text/plain": [
       "FULL NAME     object\n",
       "TEAM          object\n",
       "POSITION      object\n",
       "AGE            int64\n",
       "EFFICIENCY     int64\n",
       "SALARY         int64\n",
       "FOLLOWERS      int64\n",
       "dtype: object"
      ]
     },
     "execution_count": 31,
     "metadata": {},
     "output_type": "execute_result"
    }
   ],
   "source": [
    "final_df.dtypes"
   ]
  },
  {
   "cell_type": "markdown",
   "metadata": {},
   "source": [
    "## TEAM VISUALIZATIONS"
   ]
  },
  {
   "cell_type": "code",
   "execution_count": 32,
   "metadata": {},
   "outputs": [
    {
     "data": {
      "image/png": "[encoded data removed]",
      "text/plain": [
       "<Figure size 640x480 with 1 Axes>"
      ]
     },
     "metadata": {},
     "output_type": "display_data"
    }
   ],
   "source": [
    "result = final_df.groupby([\"TEAM\"])['EFFICIENCY'].aggregate(np.mean).reset_index().sort_values('EFFICIENCY', ascending=False)\n",
    "sns.barplot(x='EFFICIENCY', y=\"TEAM\", data=final_df, order=result['TEAM'])\n",
    "plt.ylim(10)\n",
    "plt.show()"
   ]
  },
  {
   "cell_type": "code",
   "execution_count": 33,
   "metadata": {},
   "outputs": [
    {
     "data": {
      "image/png": "[encoded data removed]",
      "text/plain": [
       "<Figure size 640x480 with 1 Axes>"
      ]
     },
     "metadata": {},
     "output_type": "display_data"
    }
   ],
   "source": [
    "result = final_df.groupby([\"TEAM\"])['SALARY'].aggregate(np.mean).reset_index().sort_values('SALARY', ascending=False)\n",
    "sns.barplot(x='SALARY', y=\"TEAM\", data=final_df, order=result['TEAM'])\n",
    "plt.ylim(10)\n",
    "plt.show()"
   ]
  },
  {
   "cell_type": "code",
   "execution_count": 34,
   "metadata": {},
   "outputs": [
    {
     "data": {
      "image/png": "[encoded data removed]",
      "text/plain": [
       "<Figure size 640x480 with 1 Axes>"
      ]
     },
     "metadata": {},
     "output_type": "display_data"
    }
   ],
   "source": [
    "result = final_df.groupby([\"TEAM\"])['FOLLOWERS'].aggregate(np.mean).reset_index().sort_values('FOLLOWERS', ascending=False)\n",
    "sns.barplot(x='FOLLOWERS', y=\"TEAM\", data=final_df, order=result['TEAM'])\n",
    "plt.ylim(10)\n",
    "plt.show()"
   ]
  },
  {
   "cell_type": "markdown",
   "metadata": {},
   "source": [
    "## POSITION VISUALIZATIONS"
   ]
  },
  {
   "cell_type": "code",
   "execution_count": 35,
   "metadata": {},
   "outputs": [
    {
     "data": {
      "text/plain": [
       "(array([0, 1, 2, 3, 4]),\n",
       " [Text(0, 0, 'Point Guard (1)'),\n",
       "  Text(1, 0, 'Shooting Guard (2)'),\n",
       "  Text(2, 0, 'Small Forward (3)'),\n",
       "  Text(3, 0, 'Power Forward (4)'),\n",
       "  Text(4, 0, 'Center (5)')])"
      ]
     },
     "execution_count": 35,
     "metadata": {},
     "output_type": "execute_result"
    },
    {
     "data": {
      "image/png": "[encoded data removed]",
      "text/plain": [
       "<Figure size 640x480 with 1 Axes>"
      ]
     },
     "metadata": {},
     "output_type": "display_data"
    }
   ],
   "source": [
    "sns.barplot(x=\"POSITION\", y=\"EFFICIENCY\", data=final_df, order=['Point Guard (1)','Shooting Guard (2)','Small Forward (3)','Power Forward (4)','Center (5)'])\n",
    "plt.xticks(rotation=45)"
   ]
  },
  {
   "cell_type": "code",
   "execution_count": 36,
   "metadata": {},
   "outputs": [
    {
     "data": {
      "text/plain": [
       "(array([0, 1, 2, 3, 4]),\n",
       " [Text(0, 0, 'Point Guard (1)'),\n",
       "  Text(1, 0, 'Shooting Guard (2)'),\n",
       "  Text(2, 0, 'Small Forward (3)'),\n",
       "  Text(3, 0, 'Power Forward (4)'),\n",
       "  Text(4, 0, 'Center (5)')])"
      ]
     },
     "execution_count": 36,
     "metadata": {},
     "output_type": "execute_result"
    },
    {
     "data": {
      "image/png": "[encoded data removed]",
      "text/plain": [
       "<Figure size 640x480 with 1 Axes>"
      ]
     },
     "metadata": {},
     "output_type": "display_data"
    }
   ],
   "source": [
    "sns.barplot(x=\"POSITION\", y=\"SALARY\", data=final_df, order=['Point Guard (1)','Shooting Guard (2)','Small Forward (3)','Power Forward (4)','Center (5)'])\n",
    "plt.xticks(rotation=45)"
   ]
  },
  {
   "cell_type": "code",
   "execution_count": 37,
   "metadata": {},
   "outputs": [
    {
     "data": {
      "text/plain": [
       "(array([0, 1, 2, 3, 4]),\n",
       " [Text(0, 0, 'Point Guard (1)'),\n",
       "  Text(1, 0, 'Shooting Guard (2)'),\n",
       "  Text(2, 0, 'Small Forward (3)'),\n",
       "  Text(3, 0, 'Power Forward (4)'),\n",
       "  Text(4, 0, 'Center (5)')])"
      ]
     },
     "execution_count": 37,
     "metadata": {},
     "output_type": "execute_result"
    },
    {
     "data": {
      "image/png": "[encoded data removed]",
      "text/plain": [
       "<Figure size 640x480 with 1 Axes>"
      ]
     },
     "metadata": {},
     "output_type": "display_data"
    }
   ],
   "source": [
    "sns.barplot(x=\"POSITION\", y=\"FOLLOWERS\", data=final_df, order=['Point Guard (1)','Shooting Guard (2)','Small Forward (3)','Power Forward (4)','Center (5)'])\n",
    "plt.xticks(rotation=45)"
   ]
  },
  {
   "cell_type": "markdown",
   "metadata": {},
   "source": [
    "## AGE VISUALIZATIONS"
   ]
  },
  {
   "cell_type": "code",
   "execution_count": 38,
   "metadata": {},
   "outputs": [
    {
     "data": {
      "text/plain": [
       "<AxesSubplot:xlabel='AGE'>"
      ]
     },
     "execution_count": 38,
     "metadata": {},
     "output_type": "execute_result"
    },
    {
     "data": {
      "image/png": "[encoded data removed]",
      "text/plain": [
       "<Figure size 640x480 with 1 Axes>"
      ]
     },
     "metadata": {},
     "output_type": "display_data"
    }
   ],
   "source": [
    "sns.boxplot(x = 'AGE', data=final_df)"
   ]
  },
  {
   "cell_type": "code",
   "execution_count": 39,
   "metadata": {},
   "outputs": [
    {
     "data": {
      "text/plain": [
       "count    396.000000\n",
       "mean      26.005051\n",
       "std        4.360348\n",
       "min       19.000000\n",
       "25%       22.000000\n",
       "50%       25.000000\n",
       "75%       29.000000\n",
       "max       41.000000\n",
       "Name: AGE, dtype: float64"
      ]
     },
     "execution_count": 39,
     "metadata": {},
     "output_type": "execute_result"
    }
   ],
   "source": [
    "final_df['AGE'].describe()\n"
   ]
  },
  {
   "cell_type": "markdown",
   "metadata": {},
   "source": [
    "## NUMERIC VISUALIZATIONS"
   ]
  },
  {
   "cell_type": "code",
   "execution_count": 40,
   "metadata": {},
   "outputs": [
    {
     "data": {
      "text/plain": [
       "<AxesSubplot:xlabel='SALARY', ylabel='EFFICIENCY'>"
      ]
     },
     "execution_count": 40,
     "metadata": {},
     "output_type": "execute_result"
    },
    {
     "data": {
      "image/png": "[encoded data removed]",
      "text/plain": [
       "<Figure size 640x480 with 1 Axes>"
      ]
     },
     "metadata": {},
     "output_type": "display_data"
    }
   ],
   "source": [
    "sns.scatterplot(x=\"SALARY\", y=\"EFFICIENCY\", data=final_df)"
   ]
  },
  {
   "cell_type": "code",
   "execution_count": 41,
   "metadata": {},
   "outputs": [
    {
     "data": {
      "text/plain": [
       "(0.0, 10000000.0)"
      ]
     },
     "execution_count": 41,
     "metadata": {},
     "output_type": "execute_result"
    },
    {
     "data": {
      "image/png": "[encoded data removed]",
      "text/plain": [
       "<Figure size 640x480 with 1 Axes>"
      ]
     },
     "metadata": {},
     "output_type": "display_data"
    }
   ],
   "source": [
    "sns.scatterplot(x=\"SALARY\", y=\"FOLLOWERS\", data=final_df)\n",
    "plt.ylim(0, 10000000)"
   ]
  },
  {
   "cell_type": "code",
   "execution_count": 42,
   "metadata": {},
   "outputs": [
    {
     "data": {
      "text/plain": [
       "(0.0, 10000000.0)"
      ]
     },
     "execution_count": 42,
     "metadata": {},
     "output_type": "execute_result"
    },
    {
     "data": {
      "image/png": "[encoded data removed]",
      "text/plain": [
       "<Figure size 640x480 with 1 Axes>"
      ]
     },
     "metadata": {},
     "output_type": "display_data"
    }
   ],
   "source": [
    "sns.scatterplot(x=\"FOLLOWERS\", y=\"EFFICIENCY\", data=final_df, size=\"SALARY\", hue='SALARY', sizes=(20,200))\n",
    "plt.xlim(0, 10000000)"
   ]
  }
 ],
 "metadata": {
  "kernelspec": {
   "display_name": "Python 3.10.4 ('ironhack')",
   "language": "python",
   "name": "python3"
  },
  "language_info": {
   "codemirror_mode": {
    "name": "ipython",
    "version": 3
   },
   "file_extension": ".py",
   "mimetype": "text/x-python",
   "name": "python",
   "nbconvert_exporter": "python",
   "pygments_lexer": "ipython3",
   "version": "3.10.4"
  },
  "orig_nbformat": 4,
  "vscode": {
   "interpreter": {
    "hash": "10cad967c453900039007de2b11d94e822a1579bed14f6590fb511028dcecd61"
   }
  }
 },
 "nbformat": 4,
 "nbformat_minor": 2
}
